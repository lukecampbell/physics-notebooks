{
 "cells": [
  {
   "cell_type": "markdown",
   "metadata": {
    "collapsed": true,
    "deletable": true,
    "editable": true
   },
   "source": [
    "##### 3.8 $\\cdot$ **CALC**\n",
    "A remote-controlled car is moving in a vacant parking lot. The velocity of the car as a function of time is given by $\\vec{v} = [5.00 \\text{m/s} - (0.0180 \\text{m/s}^3)t^2] \\hat{\\textbf i} + [2.00\\text{m/s} + (0.550 \\text{m/s}^2)t]\\hat{\\textbf j}$\n",
    "\n",
    "(a) What are $a_x(t)$ and $a_y(t)$, the $x-$ and $y-$components of the velocity of the car as functions of time?\n",
    "\n",
    "(b) What are the magnitude and direction of the velocity of the car at $t$ = 8.00 s?\n",
    "\n",
    "(c) What are the magnitude and direction of the acceleration of the car at $t$ = 8.00 s?\n"
   ]
  },
  {
   "cell_type": "code",
   "execution_count": 2,
   "metadata": {
    "collapsed": false
   },
   "outputs": [],
   "source": [
    "import numpy as np\n",
    "def v(t):\n",
    "    i = (5.0 - (0.0180 * t**2))\n",
    "    j = (2.0 + (0.550 * t))\n",
    "    return np.array([i, j])"
   ]
  },
  {
   "cell_type": "markdown",
   "metadata": {},
   "source": [
    "$v_x = 5.00 \\text{ m/s} - (0.0180 \\text{ m/s}^3) t^2$\n",
    "\n",
    "$v_y = 2.00 \\text{ m/s} - (0.55 \\text{ m/s}^2) t $\n",
    "\n",
    "Since acceleration is the derivative of velocity:\n",
    "\n",
    "\\begin{equation}\n",
    "a_x = \\frac{d}{dt} v_x = -0.036 \\text{ m/s}^3 t \\\\\n",
    "a_y = \\frac{d}{dt} v_y = -0.55 \\text{ m/s} \n",
    "\\end{equation}"
   ]
  },
  {
   "cell_type": "code",
   "execution_count": 4,
   "metadata": {
    "collapsed": true
   },
   "outputs": [],
   "source": [
    "v_i = v(8)"
   ]
  },
  {
   "cell_type": "markdown",
   "metadata": {},
   "source": [
    "speed $= \\sqrt{v_x^2 + v_y^2}$"
   ]
  },
  {
   "cell_type": "code",
   "execution_count": 18,
   "metadata": {
    "collapsed": false
   },
   "outputs": [
    {
     "name": "stdout",
     "output_type": "stream",
     "text": [
      "7.47 m/s\n"
     ]
    }
   ],
   "source": [
    "speed = np.sqrt(v_i[0] ** 2 + v_i[1]**2)\n",
    "print(\"{:.2f} m/s\".format(speed))"
   ]
  },
  {
   "cell_type": "markdown",
   "metadata": {},
   "source": [
    "\\begin{equation*}\n",
    "\\tan \\alpha = \\frac{v_y}{v_x}\n",
    "\\end{equation*}"
   ]
  },
  {
   "cell_type": "code",
   "execution_count": 16,
   "metadata": {
    "collapsed": false
   },
   "outputs": [
    {
     "name": "stdout",
     "output_type": "stream",
     "text": [
      "58.98°\n"
     ]
    }
   ],
   "source": [
    "direction = np.rad2deg(np.arctan2(v_i[1], v_i[0]))\n",
    "print(\"{:.2f}°\".format(direction))"
   ]
  },
  {
   "cell_type": "markdown",
   "metadata": {},
   "source": [
    "(a) 7.47 m/s and 58.98°"
   ]
  },
  {
   "cell_type": "code",
   "execution_count": 19,
   "metadata": {
    "collapsed": true
   },
   "outputs": [],
   "source": [
    "def a(t):\n",
    "    i = - 0.036 * t\n",
    "    j = -0.55\n",
    "    return np.array([i, j])"
   ]
  },
  {
   "cell_type": "code",
   "execution_count": 22,
   "metadata": {
    "collapsed": false
   },
   "outputs": [],
   "source": [
    "a_x, a_y = a(8)"
   ]
  },
  {
   "cell_type": "code",
   "execution_count": 24,
   "metadata": {
    "collapsed": false
   },
   "outputs": [
    {
     "name": "stdout",
     "output_type": "stream",
     "text": [
      "0.62 m s-2\n"
     ]
    }
   ],
   "source": [
    "acceleration = np.sqrt(a_x ** 2 + a_y ** 2)\n",
    "print(\"{:.2f} m s-2\".format(acceleration))"
   ]
  },
  {
   "cell_type": "code",
   "execution_count": 25,
   "metadata": {
    "collapsed": false
   },
   "outputs": [
    {
     "name": "stdout",
     "output_type": "stream",
     "text": [
      "-117.64°\n"
     ]
    }
   ],
   "source": [
    "a_direction = np.rad2deg(np.arctan2(a_y, a_x))\n",
    "print(\"{:.2f}°\".format(a_direction))"
   ]
  },
  {
   "cell_type": "code",
   "execution_count": null,
   "metadata": {
    "collapsed": true
   },
   "outputs": [],
   "source": []
  }
 ],
 "metadata": {
  "kernelspec": {
   "display_name": "Python 3",
   "language": "python",
   "name": "python3"
  },
  "language_info": {
   "codemirror_mode": {
    "name": "ipython",
    "version": 3
   },
   "file_extension": ".py",
   "mimetype": "text/x-python",
   "name": "python",
   "nbconvert_exporter": "python",
   "pygments_lexer": "ipython3",
   "version": "3.6.0"
  }
 },
 "nbformat": 4,
 "nbformat_minor": 2
}
