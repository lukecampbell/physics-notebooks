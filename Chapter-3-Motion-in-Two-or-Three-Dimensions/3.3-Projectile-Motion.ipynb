{
 "cells": [
  {
   "cell_type": "markdown",
   "metadata": {
    "deletable": true,
    "editable": true
   },
   "source": [
    "# 3.3 Projectile Motion\n",
    "\n",
    "<hr>\n",
    "\n",
    "<dl>\n",
    "  <dt>\n",
    "    Projectile\n",
    "  </dt>\n",
    "  <dd>\n",
    "    Any body that is given an initial velocity and then follows a path\n",
    "    determined entirely by the effects of gravitational acceleration and air\n",
    "    resistance.\n",
    "  </dd>\n",
    "  <dt>\n",
    "    Trajectory\n",
    "  </dt>\n",
    "  <dd>\n",
    "    The path followed by a projectile.\n",
    "  </dd>\n",
    "</dl>\n",
    "\n",
    "<img src=\"https://upload.wikimedia.org/wikipedia/commons/thumb/6/61/Ideal_projectile_motion_for_different_angles.svg/512px-Ideal_projectile_motion_for_different_angles.svg.png\" />\n",
    "\n"
   ]
  },
  {
   "cell_type": "markdown",
   "metadata": {},
   "source": [
    "#### Deriving equations governing motion"
   ]
  },
  {
   "cell_type": "markdown",
   "metadata": {
    "deletable": true,
    "editable": true
   },
   "source": [
    "In the vertical direction, an object accelerates downwards or towards $-y$. We can describe this with.\n",
    "\n",
    "\\begin{equation}\n",
    "a_x = 0\\\\\n",
    "a_y = -g\n",
    "\\end{equation}\n",
    "\n",
    "Let's say that $v_{0x}$ is the initial velocity in the $x$-direction. Since the projectile only has an initial velocity and doesn't accelerate in the $x$-direction.\n",
    "\n",
    "\n",
    "\\begin{equation}\n",
    "v_x = v_{0x} \\\\\n",
    "x = x_0 + v_{0x}t\n",
    "\\end{equation}\n",
    "\n",
    "For the $y$-motion we substitute $y$ for $x$, $v_y$ for $v_x$, $v_{0y}$ for $v_{0x}$, and $a_y = -g$ for $a_x$;\n",
    "\\begin{equation}\n",
    "v_y = v_{0y} - gt \\\\\n",
    "y = y_0 + v_{0y}t - \\frac{1}{2}gt^2\n",
    "\\end{equation}\n"
   ]
  },
  {
   "cell_type": "markdown",
   "metadata": {},
   "source": [
    "![Kicking a ball](../images/kickball.png)"
   ]
  },
  {
   "cell_type": "code",
   "execution_count": null,
   "metadata": {
    "collapsed": true
   },
   "outputs": [],
   "source": []
  }
 ],
 "metadata": {
  "kernelspec": {
   "display_name": "Python 3",
   "language": "python",
   "name": "python3"
  },
  "language_info": {
   "codemirror_mode": {
    "name": "ipython",
    "version": 3
   },
   "file_extension": ".py",
   "mimetype": "text/x-python",
   "name": "python",
   "nbconvert_exporter": "python",
   "pygments_lexer": "ipython3",
   "version": "3.6.0"
  }
 },
 "nbformat": 4,
 "nbformat_minor": 2
}
